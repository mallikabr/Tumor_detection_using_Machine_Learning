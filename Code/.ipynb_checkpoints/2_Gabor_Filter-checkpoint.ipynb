{
 "cells": [
  {
   "cell_type": "markdown",
   "metadata": {},
   "source": [
    "## Libraries Importing"
   ]
  },
  {
   "cell_type": "code",
   "execution_count": 1,
   "metadata": {},
   "outputs": [],
   "source": [
    "import warnings\n",
    "warnings.filterwarnings(\"always\")\n",
    "warnings.filterwarnings(\"ignore\")"
   ]
  },
  {
   "cell_type": "code",
   "execution_count": 2,
   "metadata": {},
   "outputs": [],
   "source": [
    "import os\n",
    "import shutil #recursively moves a file from src to dest and vice versa\n",
    "import cv2 as cv #resize image , GF\n",
    "import numpy as np\n",
    "from tensorflow.keras import utils"
   ]
  },
  {
   "cell_type": "code",
   "execution_count": 3,
   "metadata": {},
   "outputs": [],
   "source": [
    "def create_dir(in_dir, out_dir, gdir_1):\n",
    "    for label in os.listdir(path= in_dir):\n",
    "        if not os.path.exists(os.path.join(out_dir, gdir_1, label)):\n",
    "            os.makedirs(os.path.join(out_dir, gdir_1, label))"
   ]
  },
  {
   "cell_type": "markdown",
   "metadata": {},
   "source": [
    "## Gabor filter applying process"
   ]
  },
  {
   "cell_type": "code",
   "execution_count": 4,
   "metadata": {},
   "outputs": [],
   "source": [
    "def preprocess_image(in_dir = 'input', out_dir= 'processed'):\n",
    "    gdir_1 = 'Gabor_Images'\n",
    "    \n",
    "    create_dir(in_dir, out_dir, gdir_1)\n",
    "    \n",
    "    for label in os.listdir(path= in_dir):\n",
    "        print('Processing started for : ',label)\n",
    "        for image_name in os.listdir(os.path.join(in_dir,label)):\n",
    "            if not image_name.endswith('.db'):\n",
    "                in_path = os.path.join(in_dir, label, image_name)\n",
    "                out_path_1 = os.path.join(out_dir, gdir_1, label, image_name) #path of gabor1\n",
    "                img = cv.imread(in_path,0) #reading image \n",
    "                gabor_1 = cv.getGaborKernel((18, 18), 1.5, np.pi/4, 5.0, 1.5, 0, ktype=cv.CV_32F) #initialising the parameters of gabor filter \n",
    "                filtered_img_1 = cv.filter2D(img, cv.CV_8UC3, gabor_1) # applying gabor filter\n",
    "                cv.imwrite(out_path_1, filtered_img_1) #writing filtered image in out_oath\n",
    "        print('------ Processing done ------')"
   ]
  },
  {
   "cell_type": "code",
   "execution_count": 5,
   "metadata": {
    "scrolled": false
   },
   "outputs": [
    {
     "name": "stdout",
     "output_type": "stream",
     "text": [
      "Processing started for :  no\n",
      "------ Processing done ------\n",
      "Processing started for :  yes\n",
      "------ Processing done ------\n"
     ]
    }
   ],
   "source": [
    "preprocess_image()"
   ]
  },
  {
   "cell_type": "code",
   "execution_count": 6,
   "metadata": {},
   "outputs": [
    {
     "name": "stdout",
     "output_type": "stream",
     "text": [
      "input_dir : processed\\Gabor_Images\n"
     ]
    }
   ],
   "source": [
    "input_dir = os.path.join('processed', 'Gabor_Images')\n",
    "print('input_dir :', input_dir)"
   ]
  },
  {
   "cell_type": "code",
   "execution_count": 7,
   "metadata": {},
   "outputs": [
    {
     "name": "stdout",
     "output_type": "stream",
     "text": [
      "Class labels :  ['no', 'yes']\n",
      "no 98\n",
      "yes 155\n",
      "------------------------------\n",
      "Total no of samples:  253\n",
      "------------------------------\n"
     ]
    }
   ],
   "source": [
    "no_samples = 0\n",
    "labels = os.listdir(input_dir)\n",
    "print('Class labels : ', labels)\n",
    "\n",
    "for label in labels:\n",
    "    total = len(os.listdir(os.path.join(input_dir, label)))\n",
    "    print(label, total)\n",
    "    no_samples +=total\n",
    "print('-'*30)\n",
    "print('Total no of samples: ',no_samples)\n",
    "print('-'*30)"
   ]
  },
  {
   "cell_type": "code",
   "execution_count": 8,
   "metadata": {},
   "outputs": [],
   "source": [
    "img_rows = 256\n",
    "img_cols = 256\n",
    "channels = 3"
   ]
  },
  {
   "cell_type": "code",
   "execution_count": 9,
   "metadata": {},
   "outputs": [],
   "source": [
    "def load_data(input_dir, no_samples, labels):\n",
    "    \n",
    "    images = np.ndarray((no_samples, img_rows, img_cols, channels), dtype = np.float32)\n",
    "    targets = np.zeros((no_samples,), dtype = np.uint8)\n",
    "    \n",
    "    i = 0\n",
    "    print('-'*30)\n",
    "    print('Loading training images...')\n",
    "    print('-'*30)\n",
    "    \n",
    "    for j, label in enumerate(labels):\n",
    "        image_names = os.listdir(os.path.join(input_dir, label))\n",
    "        total = len(image_names)\n",
    "        print(label, total)\n",
    "        for image_name in image_names:\n",
    "            img = cv.imread(os.path.join(input_dir, label, image_name), 1)\n",
    "            img = np.array(cv.resize(img, (img_rows, img_cols)))\n",
    "            \n",
    "            images[i] = np.reshape(a= img, newshape= (img_rows, img_cols, channels))\n",
    "            targets[i] = j\n",
    "            \n",
    "            i += 1\n",
    "    print('Loading done.')\n",
    "    \n",
    "    targets = utils.to_categorical(y= targets, num_classes= len(labels))\n",
    "    \n",
    "    return images, targets"
   ]
  },
  {
   "cell_type": "code",
   "execution_count": 10,
   "metadata": {},
   "outputs": [
    {
     "name": "stdout",
     "output_type": "stream",
     "text": [
      "------------------------------\n",
      "Loading training images...\n",
      "------------------------------\n",
      "no 98\n",
      "yes 155\n",
      "Loading done.\n"
     ]
    }
   ],
   "source": [
    "X, Y = load_data(input_dir, no_samples, labels)"
   ]
  },
  {
   "cell_type": "code",
   "execution_count": 11,
   "metadata": {},
   "outputs": [
    {
     "name": "stdout",
     "output_type": "stream",
     "text": [
      "(253, 256, 256, 3) (253, 2)\n"
     ]
    }
   ],
   "source": [
    "print(X.shape, Y.shape)"
   ]
  },
  {
   "cell_type": "code",
   "execution_count": 13,
   "metadata": {},
   "outputs": [],
   "source": [
    "np.savez(file= 'dataset/data', x= X, y= Y)"
   ]
  },
  {
   "cell_type": "markdown",
   "metadata": {},
   "source": [
    "# Done"
   ]
  }
 ],
 "metadata": {
  "kernelspec": {
   "display_name": "Python 3 (ipykernel)",
   "language": "python",
   "name": "python3"
  },
  "language_info": {
   "codemirror_mode": {
    "name": "ipython",
    "version": 3
   },
   "file_extension": ".py",
   "mimetype": "text/x-python",
   "name": "python",
   "nbconvert_exporter": "python",
   "pygments_lexer": "ipython3",
   "version": "3.9.7"
  }
 },
 "nbformat": 4,
 "nbformat_minor": 2
}
